{
  "nbformat": 4,
  "nbformat_minor": 0,
  "metadata": {
    "colab": {
      "name": "DeanW - Ray Tutorial - In-Order Task Processing",
      "provenance": [],
      "collapsed_sections": [],
      "toc_visible": true,
      "include_colab_link": true
    },
    "kernelspec": {
      "display_name": "Python 3",
      "language": "python",
      "name": "python3"
    },
    "language_info": {
      "codemirror_mode": {
        "name": "ipython",
        "version": 3
      },
      "file_extension": ".py",
      "mimetype": "text/x-python",
      "name": "python",
      "nbconvert_exporter": "python",
      "pygments_lexer": "ipython3",
      "version": "3.6.7"
    },
    "toc": {
      "base_numbering": 1,
      "nav_menu": {},
      "number_sections": false,
      "sideBar": true,
      "skip_h1_title": false,
      "title_cell": "Table of Contents",
      "title_sidebar": "Contents",
      "toc_cell": false,
      "toc_position": {},
      "toc_section_display": true,
      "toc_window_display": true
    }
  },
  "cells": [
    {
      "cell_type": "markdown",
      "metadata": {
        "id": "view-in-github",
        "colab_type": "text"
      },
      "source": [
        "<a href=\"https://colab.research.google.com/github/deanwampler/AkkaWebSampleExercise/blob/master/DeanW_Ray_Tutorial_In_Order_Task_Processing.ipynb\" target=\"_parent\"><img src=\"https://colab.research.google.com/assets/colab-badge.svg\" alt=\"Open In Colab\"/></a>"
      ]
    },
    {
      "cell_type": "markdown",
      "metadata": {
        "id": "6dT2PVfATTGY",
        "colab_type": "text"
      },
      "source": [
        "# Install Dependencies\n",
        "\n",
        "If you are running on Google Colab, you need to install the necessary dependencies before beginning the exercise.\n",
        "\n",
        "**NOTE**: After installing the dependencies, you need to click on \"RESTART RUNTIME\""
      ]
    },
    {
      "cell_type": "code",
      "metadata": {
        "id": "fbV_-0Q2TTGa",
        "colab_type": "code",
        "colab": {
          "base_uri": "https://localhost:8080/",
          "height": 905
        },
        "outputId": "eb8f33e0-c4b8-4bda-87ed-4308769413cf"
      },
      "source": [
        "print('NOTE: Intentionally crashing session to use the newly installed library.\\n')\n",
        "\n",
        "!pip uninstall -y pyarrow\n",
        "!pip install ray[debug]==0.7.5\n",
        "\n",
        "# A hack to force the runtime to restart, needed to include the above dependencies.\n",
        "import os\n",
        "os._exit(0)"
      ],
      "execution_count": 0,
      "outputs": [
        {
          "output_type": "stream",
          "text": [
            "NOTE: Intentionally crashing session to use the newly installed library.\n",
            "\n",
            "Uninstalling pyarrow-0.14.1:\n",
            "  Successfully uninstalled pyarrow-0.14.1\n",
            "Collecting ray[debug]==0.7.5\n",
            "\u001b[?25l  Downloading https://files.pythonhosted.org/packages/9b/e7/37a7f8dc2b1f96c760a3950d8bb5a3f14066f1699f5d004f0f6462d880c9/ray-0.7.5-cp36-cp36m-manylinux1_x86_64.whl (74.9MB)\n",
            "\u001b[K     |████████████████████████████████| 74.9MB 1.2MB/s \n",
            "\u001b[?25hCollecting funcsigs (from ray[debug]==0.7.5)\n",
            "  Downloading https://files.pythonhosted.org/packages/69/cb/f5be453359271714c01b9bd06126eaf2e368f1fddfff30818754b5ac2328/funcsigs-1.0.2-py2.py3-none-any.whl\n",
            "Collecting redis>=3.3.2 (from ray[debug]==0.7.5)\n",
            "\u001b[?25l  Downloading https://files.pythonhosted.org/packages/32/ae/28613a62eea0d53d3db3147f8715f90da07667e99baeedf1010eb400f8c0/redis-3.3.11-py2.py3-none-any.whl (66kB)\n",
            "\u001b[K     |████████████████████████████████| 71kB 28.2MB/s \n",
            "\u001b[?25hRequirement already satisfied: six>=1.0.0 in /usr/local/lib/python3.6/dist-packages (from ray[debug]==0.7.5) (1.12.0)\n",
            "Requirement already satisfied: click in /usr/local/lib/python3.6/dist-packages (from ray[debug]==0.7.5) (7.0)\n",
            "Requirement already satisfied: pytest in /usr/local/lib/python3.6/dist-packages (from ray[debug]==0.7.5) (3.6.4)\n",
            "Requirement already satisfied: pyyaml in /usr/local/lib/python3.6/dist-packages (from ray[debug]==0.7.5) (3.13)\n",
            "Requirement already satisfied: jsonschema in /usr/local/lib/python3.6/dist-packages (from ray[debug]==0.7.5) (2.6.0)\n",
            "Requirement already satisfied: numpy>=1.14 in /usr/local/lib/python3.6/dist-packages (from ray[debug]==0.7.5) (1.16.5)\n",
            "Collecting protobuf>=3.8.0 (from ray[debug]==0.7.5)\n",
            "\u001b[?25l  Downloading https://files.pythonhosted.org/packages/a8/52/d8d2dbff74b8bf517c42db8d44c3f9ef6555e6f5d6caddfa3f207b9143df/protobuf-3.10.0-cp36-cp36m-manylinux1_x86_64.whl (1.3MB)\n",
            "\u001b[K     |████████████████████████████████| 1.3MB 45.4MB/s \n",
            "\u001b[?25hCollecting colorama (from ray[debug]==0.7.5)\n",
            "  Downloading https://files.pythonhosted.org/packages/4f/a6/728666f39bfff1719fc94c481890b2106837da9318031f71a8424b662e12/colorama-0.4.1-py2.py3-none-any.whl\n",
            "Requirement already satisfied: filelock in /usr/local/lib/python3.6/dist-packages (from ray[debug]==0.7.5) (3.0.12)\n",
            "Requirement already satisfied: psutil; extra == \"debug\" in /usr/local/lib/python3.6/dist-packages (from ray[debug]==0.7.5) (5.4.8)\n",
            "Collecting setproctitle; extra == \"debug\" (from ray[debug]==0.7.5)\n",
            "  Downloading https://files.pythonhosted.org/packages/5a/0d/dc0d2234aacba6cf1a729964383e3452c52096dc695581248b548786f2b3/setproctitle-1.1.10.tar.gz\n",
            "Collecting py-spy; extra == \"debug\" (from ray[debug]==0.7.5)\n",
            "\u001b[?25l  Downloading https://files.pythonhosted.org/packages/1b/49/7cea4c6ddcec7bf944c0508f480a25c9c309c6e5b96039e3aff33a579509/py_spy-0.2.2-py2.py3-none-manylinux1_x86_64.whl (2.8MB)\n",
            "\u001b[K     |████████████████████████████████| 2.8MB 40.2MB/s \n",
            "\u001b[?25hRequirement already satisfied: attrs>=17.4.0 in /usr/local/lib/python3.6/dist-packages (from pytest->ray[debug]==0.7.5) (19.2.0)\n",
            "Requirement already satisfied: more-itertools>=4.0.0 in /usr/local/lib/python3.6/dist-packages (from pytest->ray[debug]==0.7.5) (7.2.0)\n",
            "Requirement already satisfied: setuptools in /usr/local/lib/python3.6/dist-packages (from pytest->ray[debug]==0.7.5) (41.2.0)\n",
            "Requirement already satisfied: pluggy<0.8,>=0.5 in /usr/local/lib/python3.6/dist-packages (from pytest->ray[debug]==0.7.5) (0.7.1)\n",
            "Requirement already satisfied: py>=1.5.0 in /usr/local/lib/python3.6/dist-packages (from pytest->ray[debug]==0.7.5) (1.8.0)\n",
            "Requirement already satisfied: atomicwrites>=1.0 in /usr/local/lib/python3.6/dist-packages (from pytest->ray[debug]==0.7.5) (1.3.0)\n",
            "Building wheels for collected packages: setproctitle\n",
            "  Building wheel for setproctitle (setup.py) ... \u001b[?25l\u001b[?25hdone\n",
            "  Created wheel for setproctitle: filename=setproctitle-1.1.10-cp36-cp36m-linux_x86_64.whl size=33929 sha256=dc9554732d114e22fbcca660e6d6c25943dd91e55297f105941c091c8d401b94\n",
            "  Stored in directory: /root/.cache/pip/wheels/e6/b1/a6/9719530228e258eba904501fef99d5d85c80d52bd8f14438a3\n",
            "Successfully built setproctitle\n",
            "Installing collected packages: funcsigs, redis, protobuf, colorama, setproctitle, py-spy, ray\n",
            "  Found existing installation: protobuf 3.7.1\n",
            "    Uninstalling protobuf-3.7.1:\n",
            "      Successfully uninstalled protobuf-3.7.1\n",
            "Successfully installed colorama-0.4.1 funcsigs-1.0.2 protobuf-3.10.0 py-spy-0.2.2 ray-0.7.5 redis-3.3.11 setproctitle-1.1.10\n"
          ],
          "name": "stdout"
        },
        {
          "output_type": "display_data",
          "data": {
            "application/vnd.colab-display-data+json": {
              "pip_warning": {
                "packages": [
                  "google"
                ]
              }
            }
          },
          "metadata": {
            "tags": []
          }
        }
      ]
    },
    {
      "cell_type": "markdown",
      "metadata": {
        "colab_type": "text",
        "id": "r-eaEv_CmqDq"
      },
      "source": [
        "# Exercise 6 - Handling Slow Tasks\n",
        "\n",
        "**GOAL:** The goal of this exercise is to show how to use `ray.wait` to avoid waiting for slow tasks.\n",
        "\n",
        "See the documentation for `ray.wait` at https://ray.readthedocs.io/en/latest/package-ref.html?highlight=ray.wait#ray.wait.\n",
        "\n",
        "### Concepts for this Exercise - ray.wait\n",
        "\n",
        "After launching a number of tasks, you may want to know which ones have finished executing. This can be done with `ray.wait`. The function works as follows.\n",
        "\n",
        "```python\n",
        "ready_ids, remaining_ids = ray.wait(object_ids, num_returns=1, timeout=None)\n",
        "```\n",
        "\n",
        "**Arguments:**\n",
        "- `object_ids`: This is a list of object IDs.\n",
        "- `num_returns`: This is maximum number of object IDs to wait for. The default value is `1`.\n",
        "- `timeout`: This is the maximum amount of time in milliseconds to wait for. So `ray.wait` will block until either `num_returns` objects are ready or until `timeout` milliseconds have passed.\n",
        "\n",
        "**Return values:**\n",
        "- `ready_ids`: This is a list of object IDs that are available in the object store.\n",
        "- `remaining_ids`: This is a list of the IDs that were in `object_ids` but are not in `ready_ids`, so the IDs in `ready_ids` and `remaining_ids` together make up all the IDs in `object_ids`."
      ]
    },
    {
      "cell_type": "code",
      "metadata": {
        "colab_type": "code",
        "id": "4G423eU3mqDs",
        "colab": {
          "base_uri": "https://localhost:8080/",
          "height": 34
        },
        "outputId": "a32eeb80-4dff-4bac-d5f8-1b328d74e7a2"
      },
      "source": [
        "from __future__ import absolute_import\n",
        "from __future__ import division\n",
        "from __future__ import print_function\n",
        "\n",
        "import numpy as np\n",
        "import ray\n",
        "import time\n",
        "\n",
        "print('Successfully imported ray!')"
      ],
      "execution_count": 1,
      "outputs": [
        {
          "output_type": "stream",
          "text": [
            "Successfully imported ray!\n"
          ],
          "name": "stdout"
        }
      ]
    },
    {
      "cell_type": "code",
      "metadata": {
        "colab_type": "code",
        "id": "XcVSx4CEmqDw",
        "colab": {
          "base_uri": "https://localhost:8080/",
          "height": 54
        },
        "outputId": "b166c97c-ea62-46aa-f1cf-d04d8c96777c"
      },
      "source": [
        "ray.init(num_cpus=6, ignore_reinit_error=True)\n",
        "\n",
        "# Sleep a little to improve the accuracy of the timing measurements used below,\n",
        "# because some workers may still be starting up in the background.\n",
        "time.sleep(2.0)"
      ],
      "execution_count": 2,
      "outputs": [
        {
          "output_type": "stream",
          "text": [
            "2019-10-17 16:51:02,000\tINFO resource_spec.py:205 -- Starting Ray with 6.3 GiB memory available for workers and up to 3.17 GiB for objects. You can adjust these settings with ray.init(memory=<bytes>, object_store_memory=<bytes>).\n"
          ],
          "name": "stderr"
        }
      ]
    },
    {
      "cell_type": "markdown",
      "metadata": {
        "colab_type": "text",
        "id": "dNrYSPhFmqDy"
      },
      "source": [
        "Define a remote function that takes a variable amount of time to run."
      ]
    },
    {
      "cell_type": "code",
      "metadata": {
        "colab_type": "code",
        "id": "Xr17LNkqmqDz",
        "colab": {}
      },
      "source": [
        "@ray.remote\n",
        "def f(i):\n",
        "    np.random.seed(5 + i)\n",
        "    x = np.random.uniform(0, 4)\n",
        "    time.sleep(x)\n",
        "    return i, time.time()"
      ],
      "execution_count": 0,
      "outputs": []
    },
    {
      "cell_type": "markdown",
      "metadata": {
        "colab_type": "text",
        "id": "KyQRXQM4mqD1"
      },
      "source": [
        "**EXERCISE:** Using `ray.wait`, change the code below so that `initial_results` consists of the outputs of the first three tasks to complete instead of the first three tasks that were submitted."
      ]
    },
    {
      "cell_type": "code",
      "metadata": {
        "colab_type": "code",
        "id": "bEacrF9zmqD2",
        "colab": {
          "base_uri": "https://localhost:8080/",
          "height": 54
        },
        "outputId": "76becccc-d870-4eb6-9410-c366ddc96c26"
      },
      "source": [
        "start_time = time.time()\n",
        "\n",
        "# This launches 6 tasks, each of which takes a random amount of time to\n",
        "# complete.\n",
        "result_ids = [f.remote(i) for i in range(6)]\n",
        "# Get one batch of tasks. Instead of waiting for a fixed subset of tasks, we\n",
        "# should instead use the first 3 tasks that finish.\n",
        "ready, still_running = ray.wait(result_ids, num_returns=3)\n",
        "initial_results = ray.get(ready)\n",
        "\n",
        "end_time = time.time()\n",
        "duration = end_time - start_time"
      ],
      "execution_count": 6,
      "outputs": [
        {
          "output_type": "stream",
          "text": [
            "ready: [ObjectID(ff2c6f261522ffffffff0100000000c001000000), ObjectID(9e1d3b9e1a73ffffffff0100000000c001000000), ObjectID(60ba935cf6edffffffff0100000000c001000000)], still running: [ObjectID(524bb07ef6ddffffffff0100000000c001000000), ObjectID(5d294145d7bbffffffff0100000000c001000000), ObjectID(b10131c0d33affffffff0100000000c001000000)]\n"
          ],
          "name": "stdout"
        }
      ]
    },
    {
      "cell_type": "markdown",
      "metadata": {
        "colab_type": "text",
        "id": "65zF3catmqD4"
      },
      "source": [
        "**EXERCISE:** Change the code below so that `remaining_results` consists of the outputs of the last three tasks to complete."
      ]
    },
    {
      "cell_type": "code",
      "metadata": {
        "colab_type": "code",
        "id": "6vfvmSvymqEV",
        "colab": {}
      },
      "source": [
        "# Wait for the remaining tasks to complete.\n",
        "remaining_results = ray.get(still_running)"
      ],
      "execution_count": 0,
      "outputs": []
    },
    {
      "cell_type": "markdown",
      "metadata": {
        "colab_type": "text",
        "id": "zzVeSWQcmqEY"
      },
      "source": [
        "**VERIFY:** Run some checks to verify that the changes you made to the code were correct. Some of the checks should fail when you initially run the cells. After completing the exercises, the checks should pass."
      ]
    },
    {
      "cell_type": "code",
      "metadata": {
        "colab_type": "code",
        "id": "POavRmrsmqEZ",
        "colab": {
          "base_uri": "https://localhost:8080/",
          "height": 34
        },
        "outputId": "9d9e79dd-a86a-4348-a319-bd36553b1dc4"
      },
      "source": [
        "assert len(initial_results) == 3\n",
        "assert len(remaining_results) == 3\n",
        "\n",
        "initial_indices = [result[0] for result in initial_results]\n",
        "initial_times = [result[1] for result in initial_results]\n",
        "remaining_indices = [result[0] for result in remaining_results]\n",
        "remaining_times = [result[1] for result in remaining_results]\n",
        "\n",
        "assert set(initial_indices + remaining_indices) == set(range(6))\n",
        "\n",
        "assert duration < 1.5, ('The initial batch of ten tasks was retrieved in '\n",
        "                        '{} seconds. This is too slow.'.format(duration))\n",
        "\n",
        "assert duration > 0.8, ('The initial batch of ten tasks was retrieved in '\n",
        "                        '{} seconds. This is too slow.'.format(duration))\n",
        "\n",
        "# Make sure the initial results actually completed first.\n",
        "assert max(initial_times) < min(remaining_times)\n",
        "\n",
        "print('Success! The example took {} seconds.'.format(duration))"
      ],
      "execution_count": 8,
      "outputs": [
        {
          "output_type": "stream",
          "text": [
            "Success! The example took 0.8931930065155029 seconds.\n"
          ],
          "name": "stdout"
        }
      ]
    },
    {
      "cell_type": "markdown",
      "metadata": {
        "colab_type": "text",
        "id": "IK6AxwYXm_MP"
      },
      "source": [
        "# Exercise 7 - Process Tasks in Order of Completion\n",
        "\n",
        "**GOAL:** The goal of this exercise is to show how to use `ray.wait` to process tasks in the order that they finish.\n",
        "\n",
        "See the documentation for ray.wait at https://ray.readthedocs.io/en/latest/package-ref.html?highlight=ray.wait#ray.wait.\n",
        "\n",
        "## Concepts for this exercise - `ray.wait`\n",
        "\n",
        "After launching a number of tasks, you may want to run the results sequentially. To do so, we build off of exercise 6 and use `ray.wait` to execute the results sequentially. \n",
        "\n",
        "We are able to use `ray.wait` because the two lists returned by **`ray.wait` maintains the ordering of the input list**. That is, if `f` is a remote function, the code \n",
        "```python\n",
        "    results = ray.wait([f.remote(i) for i in range(100)], num_results=10)\n",
        "```\n",
        "will return `(ready_list, remain_list)` and the `ObjectID`s of in those lists will be ordered by the argument passed to `f` above."
      ]
    },
    {
      "cell_type": "code",
      "metadata": {
        "colab_type": "code",
        "id": "sXln7U76m_v7",
        "colab": {}
      },
      "source": [
        "from __future__ import absolute_import\n",
        "from __future__ import division\n",
        "from __future__ import print_function\n",
        "\n",
        "import numpy as np\n",
        "import ray\n",
        "import time"
      ],
      "execution_count": 0,
      "outputs": []
    },
    {
      "cell_type": "code",
      "metadata": {
        "colab_type": "code",
        "id": "Qs3jUiK0nCwj",
        "colab": {
          "base_uri": "https://localhost:8080/",
          "height": 54
        },
        "outputId": "fcbc8cd7-29cc-4531-8462-ba8ff48eddb1"
      },
      "source": [
        "ray.init(num_cpus=5, include_webui=False, ignore_reinit_error=True)"
      ],
      "execution_count": 10,
      "outputs": [
        {
          "output_type": "stream",
          "text": [
            "2019-10-17 16:56:23,403\tERROR worker.py:1432 -- Calling ray.init() again after it has already been called.\n"
          ],
          "name": "stderr"
        }
      ]
    },
    {
      "cell_type": "code",
      "metadata": {
        "colab_type": "code",
        "id": "idoP1vsgnG5z",
        "colab": {}
      },
      "source": [
        "@ray.remote\n",
        "def f():\n",
        "    time.sleep(np.random.uniform(0, 5))\n",
        "    return time.time()"
      ],
      "execution_count": 0,
      "outputs": []
    },
    {
      "cell_type": "code",
      "metadata": {
        "colab_type": "code",
        "id": "QY2xr5jRnIAN",
        "colab": {}
      },
      "source": [
        "**EXERCISE:** Change the code below to use `ray.wait` to get the results of the tasks in the order that they complete.\n",
        "\n",
        "**NOTE:** It would be a simple modification to maintain a pool of 10 experiments and to start a new experiment whenever one finishes."
      ],
      "execution_count": 0,
      "outputs": []
    },
    {
      "cell_type": "code",
      "metadata": {
        "colab_type": "code",
        "id": "Tqwm2XJWnKOe",
        "colab": {
          "base_uri": "https://localhost:8080/",
          "height": 187
        },
        "outputId": "0cbff112-ba5f-4c2a-84b0-1c0937aee0d6"
      },
      "source": [
        "start_time = time.time()\n",
        "\n",
        "remaining_result_ids = [f.remote() for _ in range(10)]\n",
        "\n",
        "# Get the results.\n",
        "results = []\n",
        "while len(remaining_result_ids) > 0:\n",
        "    # EXERCISE: Instead of simply waiting for the first result from\n",
        "    # remaining_result_ids, use ray.wait to get the first one to finish.\n",
        "    result_id, remaining_result_ids = ray.wait(remaining_result_ids)\n",
        "    result = sum(ray.get(result_id))\n",
        "    results.append(result)\n",
        "    print('Processing result which finished after {} seconds.'\n",
        "          .format(result - start_time))    \n",
        "\n",
        "end_time = time.time()\n",
        "duration = end_time - start_time"
      ],
      "execution_count": 13,
      "outputs": [
        {
          "output_type": "stream",
          "text": [
            "Processing result which finished after 0.22099995613098145 seconds.\n",
            "Processing result which finished after 0.6799149513244629 seconds.\n",
            "Processing result which finished after 0.7609798908233643 seconds.\n",
            "Processing result which finished after 1.046173095703125 seconds.\n",
            "Processing result which finished after 1.3924238681793213 seconds.\n",
            "Processing result which finished after 2.206995964050293 seconds.\n",
            "Processing result which finished after 2.5001721382141113 seconds.\n",
            "Processing result which finished after 3.739232063293457 seconds.\n",
            "Processing result which finished after 4.361213207244873 seconds.\n",
            "Processing result which finished after 5.643884181976318 seconds.\n"
          ],
          "name": "stdout"
        }
      ]
    },
    {
      "cell_type": "markdown",
      "metadata": {
        "colab_type": "text",
        "id": "TnkpYNBHnPTE"
      },
      "source": [
        "**VERIFY:** Run some checks to verify that the changes you made to the code were correct. Some of the checks should fail when you initially run the cells. After completing the exercises, the checks should pass."
      ]
    },
    {
      "cell_type": "code",
      "metadata": {
        "colab_type": "code",
        "id": "1PtResifnPmr",
        "colab": {
          "base_uri": "https://localhost:8080/",
          "height": 34
        },
        "outputId": "dec46f67-22e8-4a75-e37c-a37a5a472bde"
      },
      "source": [
        "assert results == sorted(results), ('The results were not processed in the '\n",
        "                                    'order that they finished.')\n",
        "\n",
        "print('Success! The example took {} seconds.'.format(duration))"
      ],
      "execution_count": 14,
      "outputs": [
        {
          "output_type": "stream",
          "text": [
            "Success! The example took 5.645421504974365 seconds.\n"
          ],
          "name": "stdout"
        }
      ]
    },
    {
      "cell_type": "code",
      "metadata": {
        "id": "4VM1f0HiqVeh",
        "colab_type": "code",
        "colab": {}
      },
      "source": [
        ""
      ],
      "execution_count": 0,
      "outputs": []
    },
    {
      "cell_type": "code",
      "metadata": {
        "id": "jGJHDgZ5rOcH",
        "colab_type": "code",
        "colab": {}
      },
      "source": [
        ""
      ],
      "execution_count": 0,
      "outputs": []
    }
  ]
}